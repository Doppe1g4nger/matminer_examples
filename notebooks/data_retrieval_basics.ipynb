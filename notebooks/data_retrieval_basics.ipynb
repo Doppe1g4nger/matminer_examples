{
 "cells": [
  {
   "cell_type": "markdown",
   "metadata": {},
   "source": [
    "# Getting Data"
   ]
  },
  {
   "cell_type": "markdown",
   "metadata": {},
   "source": [
    "This notebook demonstrates a few basic examples from matminer's data retrieval features.  Matminer supports data retrival from the following sources.\n",
    "\n",
    "* [Materials Project](https://materialsproject.org)\n",
    "* [Citrine Informatics](https://citrination.com)\n",
    "* [The Materials Platform for Data Science (MPDS)](mpds.io)\n",
    "* [The Materials Data Facility](https://materialsdatafacility.org/)"
   ]
  },
  {
   "cell_type": "markdown",
   "metadata": {},
   "source": [
    "Each resource has a corresponding object in matminer designed for retrieving data and preprocessing it into a pandas dataframe.  In addition, matminer can also access and aggregate data from your own [mongo database](https://www.mongodb.com/), if you have one."
   ]
  },
  {
   "cell_type": "markdown",
   "metadata": {},
   "source": [
    "## Materials Project"
   ]
  },
  {
   "cell_type": "markdown",
   "metadata": {},
   "source": [
    "The materials project data retrieval tool, `matminer.data_retrieval.retrieve_MP.MPDataRetrieval` is initialized using an api_key that can be found on your personal dashboard page on [materialsproject.org](materialsproject.org) if you've created an account.  If you've set your api key via pymatgen (e.g. `pmg config --add PMG_MAPI_KEY YOUR_API_KEY_HERE`), the data retrieval tool may be initialized without an input argument."
   ]
  },
  {
   "cell_type": "code",
   "execution_count": 1,
   "metadata": {},
   "outputs": [],
   "source": [
    "from matminer.data_retrieval.retrieve_MP import MPDataRetrieval"
   ]
  },
  {
   "cell_type": "code",
   "execution_count": 2,
   "metadata": {},
   "outputs": [],
   "source": [
    "mpdr = MPDataRetrieval() # or MPDataRetrieval(api_key=YOUR_API_KEY here)"
   ]
  },
  {
   "cell_type": "markdown",
   "metadata": {},
   "source": [
    "Getting a dataframe corresponding to the materials project is essentially equivalent to using the MPRester's query method.(see [`pymatgen.ext.matproj.MPRester`](http://pymatgen.org/_modules/pymatgen/ext/matproj.html))  The inputs are  `criteria`, a mongo-style dictionary with which to filter the data, and `properties`, a list of supported properties which to return.  See the [MAPI documentation](https://github.com/materialsproject/mapidoc/tree/master/materials) for a list of and information about supported properties."
   ]
  },
  {
   "cell_type": "markdown",
   "metadata": {},
   "source": [
    "#### Example 1: Get densities of all elemental materials, i. e. those that contain one element"
   ]
  },
  {
   "cell_type": "code",
   "execution_count": 3,
   "metadata": {},
   "outputs": [
    {
     "name": "stdout",
     "output_type": "stream",
     "text": [
      "There are 466 entries on MP with 1 element\n"
     ]
    }
   ],
   "source": [
    "df = mpdr.get_dataframe({\"nelements\": 1}, ['density', 'pretty_formula'])\n",
    "print(\"There are {} entries on MP with 1 element\".format(df['density'].count()))"
   ]
  },
  {
   "cell_type": "code",
   "execution_count": 4,
   "metadata": {},
   "outputs": [
    {
     "data": {
      "text/html": [
       "<div>\n",
       "<style>\n",
       "    .dataframe thead tr:only-child th {\n",
       "        text-align: right;\n",
       "    }\n",
       "\n",
       "    .dataframe thead th {\n",
       "        text-align: left;\n",
       "    }\n",
       "\n",
       "    .dataframe tbody tr th {\n",
       "        vertical-align: top;\n",
       "    }\n",
       "</style>\n",
       "<table border=\"1\" class=\"dataframe\">\n",
       "  <thead>\n",
       "    <tr style=\"text-align: right;\">\n",
       "      <th></th>\n",
       "      <th>density</th>\n",
       "      <th>pretty_formula</th>\n",
       "    </tr>\n",
       "    <tr>\n",
       "      <th>material_id</th>\n",
       "      <th></th>\n",
       "      <th></th>\n",
       "    </tr>\n",
       "  </thead>\n",
       "  <tbody>\n",
       "    <tr>\n",
       "      <th>mp-862690</th>\n",
       "      <td>8.281682</td>\n",
       "      <td>Ac</td>\n",
       "    </tr>\n",
       "    <tr>\n",
       "      <th>mp-10018</th>\n",
       "      <td>8.305508</td>\n",
       "      <td>Ac</td>\n",
       "    </tr>\n",
       "    <tr>\n",
       "      <th>mp-124</th>\n",
       "      <td>9.948341</td>\n",
       "      <td>Ag</td>\n",
       "    </tr>\n",
       "    <tr>\n",
       "      <th>mp-989737</th>\n",
       "      <td>9.922632</td>\n",
       "      <td>Ag</td>\n",
       "    </tr>\n",
       "    <tr>\n",
       "      <th>mp-8566</th>\n",
       "      <td>9.909384</td>\n",
       "      <td>Ag</td>\n",
       "    </tr>\n",
       "  </tbody>\n",
       "</table>\n",
       "</div>"
      ],
      "text/plain": [
       "              density pretty_formula\n",
       "material_id                         \n",
       "mp-862690    8.281682             Ac\n",
       "mp-10018     8.305508             Ac\n",
       "mp-124       9.948341             Ag\n",
       "mp-989737    9.922632             Ag\n",
       "mp-8566      9.909384             Ag"
      ]
     },
     "execution_count": 4,
     "metadata": {},
     "output_type": "execute_result"
    }
   ],
   "source": [
    "df.head()"
   ]
  },
  {
   "cell_type": "markdown",
   "metadata": {},
   "source": [
    "#### Example 2: Get all bandgaps larger than 3.0 eV"
   ]
  },
  {
   "cell_type": "code",
   "execution_count": 5,
   "metadata": {},
   "outputs": [],
   "source": [
    "df = mpdr.get_dataframe({\"band_gap\": {\"$gt\": 4.0}}, ['band_gap'])"
   ]
  },
  {
   "cell_type": "code",
   "execution_count": 6,
   "metadata": {},
   "outputs": [
    {
     "name": "stdout",
     "output_type": "stream",
     "text": [
      "There are 5841 entries on MP with a band gap larger than 4.0\n"
     ]
    }
   ],
   "source": [
    "print(\"There are {} entries on MP with a band gap larger than 4.0\".format(df['band_gap'].count()))"
   ]
  },
  {
   "cell_type": "code",
   "execution_count": 7,
   "metadata": {},
   "outputs": [
    {
     "data": {
      "text/html": [
       "<div>\n",
       "<style>\n",
       "    .dataframe thead tr:only-child th {\n",
       "        text-align: right;\n",
       "    }\n",
       "\n",
       "    .dataframe thead th {\n",
       "        text-align: left;\n",
       "    }\n",
       "\n",
       "    .dataframe tbody tr th {\n",
       "        vertical-align: top;\n",
       "    }\n",
       "</style>\n",
       "<table border=\"1\" class=\"dataframe\">\n",
       "  <thead>\n",
       "    <tr style=\"text-align: right;\">\n",
       "      <th></th>\n",
       "      <th>band_gap</th>\n",
       "    </tr>\n",
       "    <tr>\n",
       "      <th>material_id</th>\n",
       "      <th></th>\n",
       "    </tr>\n",
       "  </thead>\n",
       "  <tbody>\n",
       "    <tr>\n",
       "      <th>mp-558642</th>\n",
       "      <td>4.0001</td>\n",
       "    </tr>\n",
       "    <tr>\n",
       "      <th>mp-558629</th>\n",
       "      <td>4.0007</td>\n",
       "    </tr>\n",
       "    <tr>\n",
       "      <th>mp-540140</th>\n",
       "      <td>4.0007</td>\n",
       "    </tr>\n",
       "    <tr>\n",
       "      <th>mp-780534</th>\n",
       "      <td>4.0007</td>\n",
       "    </tr>\n",
       "    <tr>\n",
       "      <th>mp-634434</th>\n",
       "      <td>4.0009</td>\n",
       "    </tr>\n",
       "  </tbody>\n",
       "</table>\n",
       "</div>"
      ],
      "text/plain": [
       "             band_gap\n",
       "material_id          \n",
       "mp-558642      4.0001\n",
       "mp-558629      4.0007\n",
       "mp-540140      4.0007\n",
       "mp-780534      4.0007\n",
       "mp-634434      4.0009"
      ]
     },
     "execution_count": 7,
     "metadata": {},
     "output_type": "execute_result"
    }
   ],
   "source": [
    "df.head()"
   ]
  },
  {
   "cell_type": "markdown",
   "metadata": {},
   "source": [
    "#### Example 3: Get all VRH shear and bulk moduli from the \"elasticity\" sub-document for which no warnings are found"
   ]
  },
  {
   "cell_type": "code",
   "execution_count": 8,
   "metadata": {},
   "outputs": [],
   "source": [
    "df = mpdr.get_dataframe({\"elasticity\": {\"$exists\": True}, \"elasticity.warnings\": None},\n",
    "                        ['elasticity.K_VRH', 'elasticity.G_VRH'])"
   ]
  },
  {
   "cell_type": "code",
   "execution_count": 9,
   "metadata": {},
   "outputs": [
    {
     "name": "stdout",
     "output_type": "stream",
     "text": [
      "There are 5790 elastic entries on MP with no warnings\n"
     ]
    }
   ],
   "source": [
    "print(\"There are {} elastic entries on MP with no warnings\".format(df['elasticity.K_VRH'].count()))"
   ]
  },
  {
   "cell_type": "code",
   "execution_count": 10,
   "metadata": {},
   "outputs": [
    {
     "data": {
      "text/html": [
       "<div>\n",
       "<style>\n",
       "    .dataframe thead tr:only-child th {\n",
       "        text-align: right;\n",
       "    }\n",
       "\n",
       "    .dataframe thead th {\n",
       "        text-align: left;\n",
       "    }\n",
       "\n",
       "    .dataframe tbody tr th {\n",
       "        vertical-align: top;\n",
       "    }\n",
       "</style>\n",
       "<table border=\"1\" class=\"dataframe\">\n",
       "  <thead>\n",
       "    <tr style=\"text-align: right;\">\n",
       "      <th></th>\n",
       "      <th>elasticity.K_VRH</th>\n",
       "      <th>elasticity.G_VRH</th>\n",
       "    </tr>\n",
       "    <tr>\n",
       "      <th>material_id</th>\n",
       "      <th></th>\n",
       "      <th></th>\n",
       "    </tr>\n",
       "  </thead>\n",
       "  <tbody>\n",
       "    <tr>\n",
       "      <th>mvc-11484</th>\n",
       "      <td>172.0</td>\n",
       "      <td>101.0</td>\n",
       "    </tr>\n",
       "    <tr>\n",
       "      <th>mvc-11438</th>\n",
       "      <td>37.0</td>\n",
       "      <td>14.0</td>\n",
       "    </tr>\n",
       "    <tr>\n",
       "      <th>mvc-15350</th>\n",
       "      <td>107.0</td>\n",
       "      <td>45.0</td>\n",
       "    </tr>\n",
       "    <tr>\n",
       "      <th>mvc-16396</th>\n",
       "      <td>38.0</td>\n",
       "      <td>23.0</td>\n",
       "    </tr>\n",
       "    <tr>\n",
       "      <th>mvc-652</th>\n",
       "      <td>83.0</td>\n",
       "      <td>44.0</td>\n",
       "    </tr>\n",
       "  </tbody>\n",
       "</table>\n",
       "</div>"
      ],
      "text/plain": [
       "             elasticity.K_VRH  elasticity.G_VRH\n",
       "material_id                                    \n",
       "mvc-11484               172.0             101.0\n",
       "mvc-11438                37.0              14.0\n",
       "mvc-15350               107.0              45.0\n",
       "mvc-16396                38.0              23.0\n",
       "mvc-652                  83.0              44.0"
      ]
     },
     "execution_count": 10,
     "metadata": {},
     "output_type": "execute_result"
    }
   ],
   "source": [
    "df.head()"
   ]
  },
  {
   "cell_type": "markdown",
   "metadata": {},
   "source": [
    "## Citrine informatics"
   ]
  },
  {
   "cell_type": "markdown",
   "metadata": {},
   "source": [
    "The materials project data retrieval tool, `matminer.data_retrieval.retrieve_Citrine.CitrineDataRetrieval` is initialized using an api_key that can be found on your \"Account Settings\" tab under your username in the upper right hand corner of the user interface at [citrination.com](citrination.com).  You can also set an environment variable, `CITRINE_KEY` to have your API key read automatically by the citrine informatics python API, (e. g. put `export CITRINE_KEY=YOUR_API_KEY_HERE` into your .bashrc)."
   ]
  },
  {
   "cell_type": "code",
   "execution_count": 11,
   "metadata": {},
   "outputs": [],
   "source": [
    "from matminer.data_retrieval.retrieve_Citrine import CitrineDataRetrieval"
   ]
  },
  {
   "cell_type": "markdown",
   "metadata": {},
   "source": [
    "#### Example 1: Get band gaps of various entries with formula PbTe"
   ]
  },
  {
   "cell_type": "code",
   "execution_count": 12,
   "metadata": {},
   "outputs": [],
   "source": [
    "cdr = CitrineDataRetrieval() # or CitrineDataRetrieval(api_key=YOUR_API_KEY) if $CITRINE_KEY is not set"
   ]
  },
  {
   "cell_type": "code",
   "execution_count": 13,
   "metadata": {},
   "outputs": [
    {
     "name": "stderr",
     "output_type": "stream",
     "text": [
      "100%|██████████| 7/7 [00:00<00:00, 101.58it/s]\n"
     ]
    }
   ],
   "source": [
    "df = cdr.get_dataframe(formula='Si', prop='band gap', data_type='EXPERIMENTAL')"
   ]
  },
  {
   "cell_type": "code",
   "execution_count": 14,
   "metadata": {},
   "outputs": [
    {
     "data": {
      "text/html": [
       "<div>\n",
       "<style>\n",
       "    .dataframe thead tr:only-child th {\n",
       "        text-align: right;\n",
       "    }\n",
       "\n",
       "    .dataframe thead th {\n",
       "        text-align: left;\n",
       "    }\n",
       "\n",
       "    .dataframe tbody tr th {\n",
       "        vertical-align: top;\n",
       "    }\n",
       "</style>\n",
       "<table border=\"1\" class=\"dataframe\">\n",
       "  <thead>\n",
       "    <tr style=\"text-align: right;\">\n",
       "      <th></th>\n",
       "      <th>chemicalFormula</th>\n",
       "      <th>references</th>\n",
       "      <th>Band gap</th>\n",
       "      <th>Band gap-conditions</th>\n",
       "      <th>Band gap-dataType</th>\n",
       "      <th>Band gap-methods</th>\n",
       "      <th>Band gap-units</th>\n",
       "      <th>Crystallinity</th>\n",
       "    </tr>\n",
       "    <tr>\n",
       "      <th>system</th>\n",
       "      <th></th>\n",
       "      <th></th>\n",
       "      <th></th>\n",
       "      <th></th>\n",
       "      <th></th>\n",
       "      <th></th>\n",
       "      <th></th>\n",
       "      <th></th>\n",
       "    </tr>\n",
       "  </thead>\n",
       "  <tbody>\n",
       "    <tr>\n",
       "      <th>1</th>\n",
       "      <td>Si</td>\n",
       "      <td>[{'doi': '10.1063/1.3253115'}]</td>\n",
       "      <td>1.12</td>\n",
       "      <td>[{'name': 'Transition', 'scalars': [{'value': ...</td>\n",
       "      <td>EXPERIMENTAL</td>\n",
       "      <td>[{'name': 'Absorption'}]</td>\n",
       "      <td>eV</td>\n",
       "      <td>Single crystalline</td>\n",
       "    </tr>\n",
       "    <tr>\n",
       "      <th>2</th>\n",
       "      <td>Si</td>\n",
       "      <td>[{'doi': '10.1063/1.3253115'}]</td>\n",
       "      <td>1.166</td>\n",
       "      <td>[{'name': 'Transition', 'scalars': [{'value': ...</td>\n",
       "      <td>EXPERIMENTAL</td>\n",
       "      <td>NaN</td>\n",
       "      <td>eV</td>\n",
       "      <td>Single crystalline</td>\n",
       "    </tr>\n",
       "    <tr>\n",
       "      <th>3</th>\n",
       "      <td>Si</td>\n",
       "      <td>[{'doi': '10.1063/1.3253115'}]</td>\n",
       "      <td>1.16</td>\n",
       "      <td>[{'name': 'Transition', 'scalars': [{'value': ...</td>\n",
       "      <td>EXPERIMENTAL</td>\n",
       "      <td>[{'name': 'Absorption'}]</td>\n",
       "      <td>eV</td>\n",
       "      <td>Single crystalline</td>\n",
       "    </tr>\n",
       "    <tr>\n",
       "      <th>4</th>\n",
       "      <td>Si</td>\n",
       "      <td>[{'doi': '10.1063/1.3253115'}]</td>\n",
       "      <td>1.16</td>\n",
       "      <td>[{'name': 'Transition', 'scalars': [{'value': ...</td>\n",
       "      <td>EXPERIMENTAL</td>\n",
       "      <td>[{'name': 'Absorption'}]</td>\n",
       "      <td>eV</td>\n",
       "      <td>Single crystalline</td>\n",
       "    </tr>\n",
       "    <tr>\n",
       "      <th>5</th>\n",
       "      <td>Si</td>\n",
       "      <td>[{'doi': '10.1063/1.3253115'}]</td>\n",
       "      <td>1.17</td>\n",
       "      <td>[{'name': 'Transition', 'scalars': [{'value': ...</td>\n",
       "      <td>EXPERIMENTAL</td>\n",
       "      <td>[{'name': 'Absorption'}]</td>\n",
       "      <td>eV</td>\n",
       "      <td>Single crystalline</td>\n",
       "    </tr>\n",
       "  </tbody>\n",
       "</table>\n",
       "</div>"
      ],
      "text/plain": [
       "       chemicalFormula                      references Band gap  \\\n",
       "system                                                            \n",
       "1                   Si  [{'doi': '10.1063/1.3253115'}]     1.12   \n",
       "2                   Si  [{'doi': '10.1063/1.3253115'}]    1.166   \n",
       "3                   Si  [{'doi': '10.1063/1.3253115'}]     1.16   \n",
       "4                   Si  [{'doi': '10.1063/1.3253115'}]     1.16   \n",
       "5                   Si  [{'doi': '10.1063/1.3253115'}]     1.17   \n",
       "\n",
       "                                      Band gap-conditions Band gap-dataType  \\\n",
       "system                                                                        \n",
       "1       [{'name': 'Transition', 'scalars': [{'value': ...      EXPERIMENTAL   \n",
       "2       [{'name': 'Transition', 'scalars': [{'value': ...      EXPERIMENTAL   \n",
       "3       [{'name': 'Transition', 'scalars': [{'value': ...      EXPERIMENTAL   \n",
       "4       [{'name': 'Transition', 'scalars': [{'value': ...      EXPERIMENTAL   \n",
       "5       [{'name': 'Transition', 'scalars': [{'value': ...      EXPERIMENTAL   \n",
       "\n",
       "                Band gap-methods Band gap-units       Crystallinity  \n",
       "system                                                               \n",
       "1       [{'name': 'Absorption'}]             eV  Single crystalline  \n",
       "2                            NaN             eV  Single crystalline  \n",
       "3       [{'name': 'Absorption'}]             eV  Single crystalline  \n",
       "4       [{'name': 'Absorption'}]             eV  Single crystalline  \n",
       "5       [{'name': 'Absorption'}]             eV  Single crystalline  "
      ]
     },
     "execution_count": 14,
     "metadata": {},
     "output_type": "execute_result"
    }
   ],
   "source": [
    "df.head()"
   ]
  },
  {
   "cell_type": "markdown",
   "metadata": {},
   "source": [
    "#### Example 2: Get adsorption energies of O\\* and OH\\*"
   ]
  },
  {
   "cell_type": "code",
   "execution_count": 15,
   "metadata": {},
   "outputs": [
    {
     "name": "stderr",
     "output_type": "stream",
     "text": [
      "100%|██████████| 9/9 [00:00<00:00, 120.37it/s]\n",
      "100%|██████████| 21/21 [00:00<00:00, 119.29it/s]\n"
     ]
    }
   ],
   "source": [
    "df_OH = cdr.get_dataframe(prop='adsorption energy of OH')\n",
    "df_O = cdr.get_dataframe(prop='adsorption energy of O')"
   ]
  },
  {
   "cell_type": "code",
   "execution_count": 16,
   "metadata": {},
   "outputs": [
    {
     "data": {
      "text/html": [
       "<div>\n",
       "<style>\n",
       "    .dataframe thead tr:only-child th {\n",
       "        text-align: right;\n",
       "    }\n",
       "\n",
       "    .dataframe thead th {\n",
       "        text-align: left;\n",
       "    }\n",
       "\n",
       "    .dataframe tbody tr th {\n",
       "        vertical-align: top;\n",
       "    }\n",
       "</style>\n",
       "<table border=\"1\" class=\"dataframe\">\n",
       "  <thead>\n",
       "    <tr style=\"text-align: right;\">\n",
       "      <th></th>\n",
       "      <th>chemicalFormula</th>\n",
       "      <th>references</th>\n",
       "      <th>Adsorption energy of OH</th>\n",
       "      <th>Adsorption energy of OH-conditions</th>\n",
       "      <th>Adsorption energy of OH-dataType</th>\n",
       "      <th>Adsorption energy of OH-units</th>\n",
       "      <th>Morphology</th>\n",
       "      <th>Surface facet</th>\n",
       "    </tr>\n",
       "    <tr>\n",
       "      <th>system</th>\n",
       "      <th></th>\n",
       "      <th></th>\n",
       "      <th></th>\n",
       "      <th></th>\n",
       "      <th></th>\n",
       "      <th></th>\n",
       "      <th></th>\n",
       "      <th></th>\n",
       "    </tr>\n",
       "  </thead>\n",
       "  <tbody>\n",
       "    <tr>\n",
       "      <th>1</th>\n",
       "      <td>Pt</td>\n",
       "      <td>[{'citation': '10.1039/c2cc30281k', 'doi': '10...</td>\n",
       "      <td>2.44</td>\n",
       "      <td>NaN</td>\n",
       "      <td>NaN</td>\n",
       "      <td>eV</td>\n",
       "      <td>NaN</td>\n",
       "      <td>(111)</td>\n",
       "    </tr>\n",
       "    <tr>\n",
       "      <th>2</th>\n",
       "      <td>Cu</td>\n",
       "      <td>[{'citation': '10.1016/s1872-2067(12)60642-1',...</td>\n",
       "      <td>-3.55</td>\n",
       "      <td>NaN</td>\n",
       "      <td>COMPUTATIONAL</td>\n",
       "      <td>eV</td>\n",
       "      <td>NaN</td>\n",
       "      <td>(211)</td>\n",
       "    </tr>\n",
       "    <tr>\n",
       "      <th>3</th>\n",
       "      <td>ZnO</td>\n",
       "      <td>[{'citation': '10.1016/s1872-2067(12)60642-1',...</td>\n",
       "      <td>-3.03</td>\n",
       "      <td>NaN</td>\n",
       "      <td>COMPUTATIONAL</td>\n",
       "      <td>eV</td>\n",
       "      <td>Thin film</td>\n",
       "      <td>NaN</td>\n",
       "    </tr>\n",
       "    <tr>\n",
       "      <th>4</th>\n",
       "      <td>Fe</td>\n",
       "      <td>[{'citation': '10.1016/j.corsci.2012.11.011', ...</td>\n",
       "      <td>-3.95</td>\n",
       "      <td>NaN</td>\n",
       "      <td>NaN</td>\n",
       "      <td>eV</td>\n",
       "      <td>NaN</td>\n",
       "      <td>(100)</td>\n",
       "    </tr>\n",
       "    <tr>\n",
       "      <th>5</th>\n",
       "      <td>Pt</td>\n",
       "      <td>[{'citation': '10.1021/jp807094m', 'doi': '10....</td>\n",
       "      <td>2.71</td>\n",
       "      <td>[{'name': 'Site', 'scalars': [{'value': 'Top s...</td>\n",
       "      <td>NaN</td>\n",
       "      <td>eV</td>\n",
       "      <td>NaN</td>\n",
       "      <td>(111)</td>\n",
       "    </tr>\n",
       "  </tbody>\n",
       "</table>\n",
       "</div>"
      ],
      "text/plain": [
       "       chemicalFormula                                         references  \\\n",
       "system                                                                      \n",
       "1                   Pt  [{'citation': '10.1039/c2cc30281k', 'doi': '10...   \n",
       "2                   Cu  [{'citation': '10.1016/s1872-2067(12)60642-1',...   \n",
       "3                  ZnO  [{'citation': '10.1016/s1872-2067(12)60642-1',...   \n",
       "4                   Fe  [{'citation': '10.1016/j.corsci.2012.11.011', ...   \n",
       "5                   Pt  [{'citation': '10.1021/jp807094m', 'doi': '10....   \n",
       "\n",
       "       Adsorption energy of OH  \\\n",
       "system                           \n",
       "1                         2.44   \n",
       "2                        -3.55   \n",
       "3                        -3.03   \n",
       "4                        -3.95   \n",
       "5                         2.71   \n",
       "\n",
       "                       Adsorption energy of OH-conditions  \\\n",
       "system                                                      \n",
       "1                                                     NaN   \n",
       "2                                                     NaN   \n",
       "3                                                     NaN   \n",
       "4                                                     NaN   \n",
       "5       [{'name': 'Site', 'scalars': [{'value': 'Top s...   \n",
       "\n",
       "       Adsorption energy of OH-dataType Adsorption energy of OH-units  \\\n",
       "system                                                                  \n",
       "1                                   NaN                            eV   \n",
       "2                         COMPUTATIONAL                            eV   \n",
       "3                         COMPUTATIONAL                            eV   \n",
       "4                                   NaN                            eV   \n",
       "5                                   NaN                            eV   \n",
       "\n",
       "       Morphology Surface facet  \n",
       "system                           \n",
       "1             NaN         (111)  \n",
       "2             NaN         (211)  \n",
       "3       Thin film           NaN  \n",
       "4             NaN         (100)  \n",
       "5             NaN         (111)  "
      ]
     },
     "execution_count": 16,
     "metadata": {},
     "output_type": "execute_result"
    }
   ],
   "source": [
    "df_OH.head()"
   ]
  },
  {
   "cell_type": "code",
   "execution_count": 17,
   "metadata": {},
   "outputs": [
    {
     "data": {
      "text/html": [
       "<div>\n",
       "<style>\n",
       "    .dataframe thead tr:only-child th {\n",
       "        text-align: right;\n",
       "    }\n",
       "\n",
       "    .dataframe thead th {\n",
       "        text-align: left;\n",
       "    }\n",
       "\n",
       "    .dataframe tbody tr th {\n",
       "        vertical-align: top;\n",
       "    }\n",
       "</style>\n",
       "<table border=\"1\" class=\"dataframe\">\n",
       "  <thead>\n",
       "    <tr style=\"text-align: right;\">\n",
       "      <th></th>\n",
       "      <th>chemicalFormula</th>\n",
       "      <th>references</th>\n",
       "      <th>Adsorption energy of O</th>\n",
       "      <th>Adsorption energy of O-conditions</th>\n",
       "      <th>Adsorption energy of O-units</th>\n",
       "      <th>Reconstruction</th>\n",
       "      <th>Surface facet</th>\n",
       "    </tr>\n",
       "    <tr>\n",
       "      <th>system</th>\n",
       "      <th></th>\n",
       "      <th></th>\n",
       "      <th></th>\n",
       "      <th></th>\n",
       "      <th></th>\n",
       "      <th></th>\n",
       "      <th></th>\n",
       "    </tr>\n",
       "  </thead>\n",
       "  <tbody>\n",
       "    <tr>\n",
       "      <th>1</th>\n",
       "      <td>Fe</td>\n",
       "      <td>[{'citation': '10.1016/j.jcat.2007.04.018', 'd...</td>\n",
       "      <td>-5.42</td>\n",
       "      <td>NaN</td>\n",
       "      <td>eV</td>\n",
       "      <td>NaN</td>\n",
       "      <td>(111)</td>\n",
       "    </tr>\n",
       "    <tr>\n",
       "      <th>2</th>\n",
       "      <td>Pt</td>\n",
       "      <td>[{'citation': '10.1002/cctc.201100308', 'doi':...</td>\n",
       "      <td>1.53</td>\n",
       "      <td>NaN</td>\n",
       "      <td>eV</td>\n",
       "      <td>NaN</td>\n",
       "      <td>(111)</td>\n",
       "    </tr>\n",
       "    <tr>\n",
       "      <th>3</th>\n",
       "      <td>Pt</td>\n",
       "      <td>[{'citation': '10.1021/jp307055j', 'doi': '10....</td>\n",
       "      <td>-4.54</td>\n",
       "      <td>NaN</td>\n",
       "      <td>eV</td>\n",
       "      <td>NaN</td>\n",
       "      <td>(111)</td>\n",
       "    </tr>\n",
       "    <tr>\n",
       "      <th>4</th>\n",
       "      <td>Co</td>\n",
       "      <td>[{'citation': '10.1021/jp710674q', 'doi': '10....</td>\n",
       "      <td>2.37</td>\n",
       "      <td>[{'name': 'Site', 'scalars': [{'value': 'FCC s...</td>\n",
       "      <td>eV</td>\n",
       "      <td>NaN</td>\n",
       "      <td>(0001)</td>\n",
       "    </tr>\n",
       "    <tr>\n",
       "      <th>5</th>\n",
       "      <td>Rh</td>\n",
       "      <td>[{'citation': '10.1007/bf00806980', 'doi': '10...</td>\n",
       "      <td>-300</td>\n",
       "      <td>NaN</td>\n",
       "      <td>kJ/mol</td>\n",
       "      <td>NaN</td>\n",
       "      <td>(110)</td>\n",
       "    </tr>\n",
       "  </tbody>\n",
       "</table>\n",
       "</div>"
      ],
      "text/plain": [
       "       chemicalFormula                                         references  \\\n",
       "system                                                                      \n",
       "1                   Fe  [{'citation': '10.1016/j.jcat.2007.04.018', 'd...   \n",
       "2                   Pt  [{'citation': '10.1002/cctc.201100308', 'doi':...   \n",
       "3                   Pt  [{'citation': '10.1021/jp307055j', 'doi': '10....   \n",
       "4                   Co  [{'citation': '10.1021/jp710674q', 'doi': '10....   \n",
       "5                   Rh  [{'citation': '10.1007/bf00806980', 'doi': '10...   \n",
       "\n",
       "       Adsorption energy of O  \\\n",
       "system                          \n",
       "1                       -5.42   \n",
       "2                        1.53   \n",
       "3                       -4.54   \n",
       "4                        2.37   \n",
       "5                        -300   \n",
       "\n",
       "                        Adsorption energy of O-conditions  \\\n",
       "system                                                      \n",
       "1                                                     NaN   \n",
       "2                                                     NaN   \n",
       "3                                                     NaN   \n",
       "4       [{'name': 'Site', 'scalars': [{'value': 'FCC s...   \n",
       "5                                                     NaN   \n",
       "\n",
       "       Adsorption energy of O-units Reconstruction Surface facet  \n",
       "system                                                            \n",
       "1                                eV            NaN         (111)  \n",
       "2                                eV            NaN         (111)  \n",
       "3                                eV            NaN         (111)  \n",
       "4                                eV            NaN        (0001)  \n",
       "5                            kJ/mol            NaN         (110)  "
      ]
     },
     "execution_count": 17,
     "metadata": {},
     "output_type": "execute_result"
    }
   ],
   "source": [
    "df_O.head()"
   ]
  },
  {
   "cell_type": "markdown",
   "metadata": {},
   "source": [
    "## MPDS - The Materials Platform for Data Science\n",
    "\n",
    "The [Materials Platform for Data Science](https://mpds.io/) interface is contained in `matminer.data_retrieval.retrieve_MPDS.MPDSDataRetrieval`, and is invoked using an API key and an optional endpoint.  Similarly to the Citrine and MP interfaces, MPDS can be invoked without specifying your API key if MPDS_KEY is set as an environment variable (e. g. put `export MPDS_KEY=YOUR_MPDS_KEY` into your .bashrc or .bash_profile)."
   ]
  },
  {
   "cell_type": "code",
   "execution_count": 18,
   "metadata": {},
   "outputs": [],
   "source": [
    "from matminer.data_retrieval.retrieve_MPDS import MPDSDataRetrieval"
   ]
  },
  {
   "cell_type": "code",
   "execution_count": 19,
   "metadata": {
    "scrolled": true
   },
   "outputs": [],
   "source": [
    "mpdsdr = MPDSDataRetrieval() # or MPDSDataRetrieval(api_key=YOUR_API_KEY)"
   ]
  },
  {
   "cell_type": "markdown",
   "metadata": {},
   "source": [
    "The `get_dataframe` method of the MPDSDataRetrieval class uses a search functionality documented on the [MPDS website](http://developer.mpds.io/#Categories).  Basically, the `search` keyword argument should take a dictionary with keys and values corresponding to search categories and values.  Note that the search functionality of the MPDS interface may be severely limited without full (i.e. paid subscription) access to the database."
   ]
  },
  {
   "cell_type": "code",
   "execution_count": 20,
   "metadata": {},
   "outputs": [
    {
     "name": "stdout",
     "output_type": "stream",
     "text": [
      "\r\n",
      "Got 5 hits\r\n"
     ]
    }
   ],
   "source": [
    "df = mpdsdr.get_dataframe(search={\"elements\": \"K-Ag\", \n",
    "                                  \"props\": \"heat capacity\"})"
   ]
  },
  {
   "cell_type": "code",
   "execution_count": 21,
   "metadata": {},
   "outputs": [
    {
     "data": {
      "text/html": [
       "<div>\n",
       "<style>\n",
       "    .dataframe thead tr:only-child th {\n",
       "        text-align: right;\n",
       "    }\n",
       "\n",
       "    .dataframe thead th {\n",
       "        text-align: left;\n",
       "    }\n",
       "\n",
       "    .dataframe tbody tr th {\n",
       "        vertical-align: top;\n",
       "    }\n",
       "</style>\n",
       "<table border=\"1\" class=\"dataframe\">\n",
       "  <thead>\n",
       "    <tr style=\"text-align: right;\">\n",
       "      <th></th>\n",
       "      <th>Phase</th>\n",
       "      <th>Formula</th>\n",
       "      <th>SG</th>\n",
       "      <th>Entry</th>\n",
       "      <th>Property</th>\n",
       "      <th>Units</th>\n",
       "      <th>Value</th>\n",
       "    </tr>\n",
       "  </thead>\n",
       "  <tbody>\n",
       "    <tr>\n",
       "      <th>0</th>\n",
       "      <td>30000</td>\n",
       "      <td>KAg4I5 rt</td>\n",
       "      <td>213</td>\n",
       "      <td>P1201629-3</td>\n",
       "      <td>heat capacity at constant pressure</td>\n",
       "      <td>J K-1 g-at.-1</td>\n",
       "      <td>30.5</td>\n",
       "    </tr>\n",
       "    <tr>\n",
       "      <th>1</th>\n",
       "      <td>79286</td>\n",
       "      <td>K2NaAg3[CN]6 lt</td>\n",
       "      <td>12</td>\n",
       "      <td>P1307433-3</td>\n",
       "      <td>heat capacity at constant pressure</td>\n",
       "      <td>J K-1 g-at.-1</td>\n",
       "      <td>83.0</td>\n",
       "    </tr>\n",
       "    <tr>\n",
       "      <th>2</th>\n",
       "      <td>79286</td>\n",
       "      <td>K2NaAg3[CN]6 lt</td>\n",
       "      <td>12</td>\n",
       "      <td>P1307433-4</td>\n",
       "      <td>heat capacity at constant pressure</td>\n",
       "      <td>J K-1 g-at.-1</td>\n",
       "      <td>112.0</td>\n",
       "    </tr>\n",
       "    <tr>\n",
       "      <th>3</th>\n",
       "      <td>79286</td>\n",
       "      <td>K2NaAg3[CN]6 lt</td>\n",
       "      <td>12</td>\n",
       "      <td>P1307434-3</td>\n",
       "      <td>heat capacity at constant pressure</td>\n",
       "      <td>J K-1 g-at.-1</td>\n",
       "      <td>78.0</td>\n",
       "    </tr>\n",
       "    <tr>\n",
       "      <th>4</th>\n",
       "      <td>79286</td>\n",
       "      <td>K2NaAg3[CN]6 lt</td>\n",
       "      <td>12</td>\n",
       "      <td>P1307434-4</td>\n",
       "      <td>heat capacity at constant pressure</td>\n",
       "      <td>J K-1 g-at.-1</td>\n",
       "      <td>11.0</td>\n",
       "    </tr>\n",
       "  </tbody>\n",
       "</table>\n",
       "</div>"
      ],
      "text/plain": [
       "   Phase          Formula   SG       Entry  \\\n",
       "0  30000        KAg4I5 rt  213  P1201629-3   \n",
       "1  79286  K2NaAg3[CN]6 lt   12  P1307433-3   \n",
       "2  79286  K2NaAg3[CN]6 lt   12  P1307433-4   \n",
       "3  79286  K2NaAg3[CN]6 lt   12  P1307434-3   \n",
       "4  79286  K2NaAg3[CN]6 lt   12  P1307434-4   \n",
       "\n",
       "                             Property          Units  Value  \n",
       "0  heat capacity at constant pressure  J K-1 g-at.-1   30.5  \n",
       "1  heat capacity at constant pressure  J K-1 g-at.-1   83.0  \n",
       "2  heat capacity at constant pressure  J K-1 g-at.-1  112.0  \n",
       "3  heat capacity at constant pressure  J K-1 g-at.-1   78.0  \n",
       "4  heat capacity at constant pressure  J K-1 g-at.-1   11.0  "
      ]
     },
     "execution_count": 21,
     "metadata": {},
     "output_type": "execute_result"
    }
   ],
   "source": [
    "df.head()"
   ]
  },
  {
   "cell_type": "markdown",
   "metadata": {},
   "source": [
    "## MDF - The Materials Data Facility\n"
   ]
  },
  {
   "cell_type": "markdown",
   "metadata": {},
   "source": [
    "The MDF data retrieval tool, `matminer.data_retrieval.retrieve_MDF.MDFDataRetrieval` is initialized using a globus initialization key.  Upon the first invocation of a MDFDataRetrieval object, you should be prompted with a string of numbers and letters you can enter on the MDF globus authentication web site.  One advantage of this system is that it doesn't actually require authentication at all.  You can use `anonymous=True` and several of the MDF datasets will be available.  However, a number of them will not, and you will have to authenticate using the web to access the entirety of MDF."
   ]
  },
  {
   "cell_type": "code",
   "execution_count": 22,
   "metadata": {},
   "outputs": [],
   "source": [
    "from matminer.data_retrieval.retrieve_MDF import MDFDataRetrieval"
   ]
  },
  {
   "cell_type": "code",
   "execution_count": 23,
   "metadata": {},
   "outputs": [
    {
     "name": "stdout",
     "output_type": "stream",
     "text": [
      "Error: Service 'mdf' requires authentication.\n"
     ]
    }
   ],
   "source": [
    "mdf_dr = MDFDataRetrieval(anonymous=True) # Or anonymous=False if you have a globus login"
   ]
  },
  {
   "cell_type": "code",
   "execution_count": 24,
   "metadata": {},
   "outputs": [],
   "source": [
    "df = mdf_dr.get_dataframe(elements=['Ag', 'Be'], sources=[\"oqmd\"])"
   ]
  },
  {
   "cell_type": "code",
   "execution_count": 25,
   "metadata": {},
   "outputs": [
    {
     "data": {
      "text/html": [
       "<div>\n",
       "<style>\n",
       "    .dataframe thead tr:only-child th {\n",
       "        text-align: right;\n",
       "    }\n",
       "\n",
       "    .dataframe thead th {\n",
       "        text-align: left;\n",
       "    }\n",
       "\n",
       "    .dataframe tbody tr th {\n",
       "        vertical-align: top;\n",
       "    }\n",
       "</style>\n",
       "<table border=\"1\" class=\"dataframe\">\n",
       "  <thead>\n",
       "    <tr style=\"text-align: right;\">\n",
       "      <th></th>\n",
       "      <th>mdf.collection</th>\n",
       "      <th>mdf.composition</th>\n",
       "      <th>mdf.elements.0</th>\n",
       "      <th>mdf.elements.1</th>\n",
       "      <th>mdf.elements.2</th>\n",
       "      <th>mdf.ingest_date</th>\n",
       "      <th>mdf.links.landing_page</th>\n",
       "      <th>mdf.links.metadata.globus_endpoint</th>\n",
       "      <th>mdf.links.metadata.http_host</th>\n",
       "      <th>mdf.links.metadata.path</th>\n",
       "      <th>...</th>\n",
       "      <th>oqmd.delta_e.value</th>\n",
       "      <th>oqmd.magnetic_moment.units</th>\n",
       "      <th>oqmd.magnetic_moment.value</th>\n",
       "      <th>oqmd.spacegroup</th>\n",
       "      <th>oqmd.stability.units</th>\n",
       "      <th>oqmd.stability.value</th>\n",
       "      <th>oqmd.total_energy.units</th>\n",
       "      <th>oqmd.total_energy.value</th>\n",
       "      <th>oqmd.volume.units</th>\n",
       "      <th>oqmd.volume.value</th>\n",
       "    </tr>\n",
       "  </thead>\n",
       "  <tbody>\n",
       "    <tr>\n",
       "      <th>0</th>\n",
       "      <td>OQMD</td>\n",
       "      <td>Ag1Be2</td>\n",
       "      <td>Be</td>\n",
       "      <td>Ag</td>\n",
       "      <td>NaN</td>\n",
       "      <td>2017-08-04T14:19:20.124355Z</td>\n",
       "      <td>http://oqmd.org/analysis/calculation/19856</td>\n",
       "      <td>82f1b5c6-6e9b-11e5-ba47-22000b92c6ec</td>\n",
       "      <td>https://data.materialsdatafacility.org</td>\n",
       "      <td>/collections/oqmd/data/home/oqmd/libraries/ics...</td>\n",
       "      <td>...</td>\n",
       "      <td>0.027908</td>\n",
       "      <td>bohr/atom</td>\n",
       "      <td>NaN</td>\n",
       "      <td>227</td>\n",
       "      <td>eV/atom</td>\n",
       "      <td>0.027908</td>\n",
       "      <td>eV/atom</td>\n",
       "      <td>-3.416156</td>\n",
       "      <td>angstrom^3/atom</td>\n",
       "      <td>10.78560</td>\n",
       "    </tr>\n",
       "    <tr>\n",
       "      <th>1</th>\n",
       "      <td>OQMD</td>\n",
       "      <td>Ag1Be2</td>\n",
       "      <td>Be</td>\n",
       "      <td>Ag</td>\n",
       "      <td>NaN</td>\n",
       "      <td>2017-08-04T14:20:06.199847Z</td>\n",
       "      <td>http://oqmd.org/analysis/calculation/69761</td>\n",
       "      <td>82f1b5c6-6e9b-11e5-ba47-22000b92c6ec</td>\n",
       "      <td>https://data.materialsdatafacility.org</td>\n",
       "      <td>/collections/oqmd/data/home/oqmd/libraries/ics...</td>\n",
       "      <td>...</td>\n",
       "      <td>NaN</td>\n",
       "      <td>bohr/atom</td>\n",
       "      <td>NaN</td>\n",
       "      <td>227</td>\n",
       "      <td>NaN</td>\n",
       "      <td>NaN</td>\n",
       "      <td>eV/atom</td>\n",
       "      <td>-3.403616</td>\n",
       "      <td>angstrom^3/atom</td>\n",
       "      <td>10.42060</td>\n",
       "    </tr>\n",
       "    <tr>\n",
       "      <th>2</th>\n",
       "      <td>OQMD</td>\n",
       "      <td>Ag3Be1</td>\n",
       "      <td>Be</td>\n",
       "      <td>Ag</td>\n",
       "      <td>NaN</td>\n",
       "      <td>2017-08-04T14:23:25.295316Z</td>\n",
       "      <td>http://oqmd.org/analysis/calculation/176171</td>\n",
       "      <td>82f1b5c6-6e9b-11e5-ba47-22000b92c6ec</td>\n",
       "      <td>https://data.materialsdatafacility.org</td>\n",
       "      <td>/collections/oqmd/data/home/oqmd/libraries/pro...</td>\n",
       "      <td>...</td>\n",
       "      <td>0.271525</td>\n",
       "      <td>bohr/atom</td>\n",
       "      <td>NaN</td>\n",
       "      <td>139</td>\n",
       "      <td>eV/atom</td>\n",
       "      <td>0.271525</td>\n",
       "      <td>eV/atom</td>\n",
       "      <td>-2.783607</td>\n",
       "      <td>angstrom^3/atom</td>\n",
       "      <td>14.46660</td>\n",
       "    </tr>\n",
       "    <tr>\n",
       "      <th>3</th>\n",
       "      <td>OQMD</td>\n",
       "      <td>Ag1Be12</td>\n",
       "      <td>Be</td>\n",
       "      <td>Ag</td>\n",
       "      <td>NaN</td>\n",
       "      <td>2017-08-04T14:21:08.479763Z</td>\n",
       "      <td>http://oqmd.org/analysis/calculation/106827</td>\n",
       "      <td>82f1b5c6-6e9b-11e5-ba47-22000b92c6ec</td>\n",
       "      <td>https://data.materialsdatafacility.org</td>\n",
       "      <td>/collections/oqmd/data/home/oqmd/libraries/ics...</td>\n",
       "      <td>...</td>\n",
       "      <td>NaN</td>\n",
       "      <td>bohr/atom</td>\n",
       "      <td>NaN</td>\n",
       "      <td>139</td>\n",
       "      <td>NaN</td>\n",
       "      <td>NaN</td>\n",
       "      <td>eV/atom</td>\n",
       "      <td>-3.572193</td>\n",
       "      <td>angstrom^3/atom</td>\n",
       "      <td>8.77839</td>\n",
       "    </tr>\n",
       "    <tr>\n",
       "      <th>4</th>\n",
       "      <td>OQMD</td>\n",
       "      <td>Ag1Be3</td>\n",
       "      <td>Be</td>\n",
       "      <td>Ag</td>\n",
       "      <td>NaN</td>\n",
       "      <td>2017-08-04T14:23:43.224728Z</td>\n",
       "      <td>http://oqmd.org/analysis/calculation/182360</td>\n",
       "      <td>82f1b5c6-6e9b-11e5-ba47-22000b92c6ec</td>\n",
       "      <td>https://data.materialsdatafacility.org</td>\n",
       "      <td>/collections/oqmd/data/home/oqmd/libraries/pro...</td>\n",
       "      <td>...</td>\n",
       "      <td>0.201601</td>\n",
       "      <td>bohr/atom</td>\n",
       "      <td>NaN</td>\n",
       "      <td>139</td>\n",
       "      <td>eV/atom</td>\n",
       "      <td>0.201601</td>\n",
       "      <td>eV/atom</td>\n",
       "      <td>-3.320249</td>\n",
       "      <td>angstrom^3/atom</td>\n",
       "      <td>10.17450</td>\n",
       "    </tr>\n",
       "  </tbody>\n",
       "</table>\n",
       "<p>5 rows × 38 columns</p>\n",
       "</div>"
      ],
      "text/plain": [
       "  mdf.collection mdf.composition mdf.elements.0 mdf.elements.1 mdf.elements.2  \\\n",
       "0           OQMD          Ag1Be2             Be             Ag            NaN   \n",
       "1           OQMD          Ag1Be2             Be             Ag            NaN   \n",
       "2           OQMD          Ag3Be1             Be             Ag            NaN   \n",
       "3           OQMD         Ag1Be12             Be             Ag            NaN   \n",
       "4           OQMD          Ag1Be3             Be             Ag            NaN   \n",
       "\n",
       "               mdf.ingest_date                       mdf.links.landing_page  \\\n",
       "0  2017-08-04T14:19:20.124355Z   http://oqmd.org/analysis/calculation/19856   \n",
       "1  2017-08-04T14:20:06.199847Z   http://oqmd.org/analysis/calculation/69761   \n",
       "2  2017-08-04T14:23:25.295316Z  http://oqmd.org/analysis/calculation/176171   \n",
       "3  2017-08-04T14:21:08.479763Z  http://oqmd.org/analysis/calculation/106827   \n",
       "4  2017-08-04T14:23:43.224728Z  http://oqmd.org/analysis/calculation/182360   \n",
       "\n",
       "     mdf.links.metadata.globus_endpoint  \\\n",
       "0  82f1b5c6-6e9b-11e5-ba47-22000b92c6ec   \n",
       "1  82f1b5c6-6e9b-11e5-ba47-22000b92c6ec   \n",
       "2  82f1b5c6-6e9b-11e5-ba47-22000b92c6ec   \n",
       "3  82f1b5c6-6e9b-11e5-ba47-22000b92c6ec   \n",
       "4  82f1b5c6-6e9b-11e5-ba47-22000b92c6ec   \n",
       "\n",
       "             mdf.links.metadata.http_host  \\\n",
       "0  https://data.materialsdatafacility.org   \n",
       "1  https://data.materialsdatafacility.org   \n",
       "2  https://data.materialsdatafacility.org   \n",
       "3  https://data.materialsdatafacility.org   \n",
       "4  https://data.materialsdatafacility.org   \n",
       "\n",
       "                             mdf.links.metadata.path        ...         \\\n",
       "0  /collections/oqmd/data/home/oqmd/libraries/ics...        ...          \n",
       "1  /collections/oqmd/data/home/oqmd/libraries/ics...        ...          \n",
       "2  /collections/oqmd/data/home/oqmd/libraries/pro...        ...          \n",
       "3  /collections/oqmd/data/home/oqmd/libraries/ics...        ...          \n",
       "4  /collections/oqmd/data/home/oqmd/libraries/pro...        ...          \n",
       "\n",
       "  oqmd.delta_e.value oqmd.magnetic_moment.units oqmd.magnetic_moment.value  \\\n",
       "0           0.027908                  bohr/atom                        NaN   \n",
       "1                NaN                  bohr/atom                        NaN   \n",
       "2           0.271525                  bohr/atom                        NaN   \n",
       "3                NaN                  bohr/atom                        NaN   \n",
       "4           0.201601                  bohr/atom                        NaN   \n",
       "\n",
       "  oqmd.spacegroup oqmd.stability.units oqmd.stability.value  \\\n",
       "0             227              eV/atom             0.027908   \n",
       "1             227                  NaN                  NaN   \n",
       "2             139              eV/atom             0.271525   \n",
       "3             139                  NaN                  NaN   \n",
       "4             139              eV/atom             0.201601   \n",
       "\n",
       "  oqmd.total_energy.units  oqmd.total_energy.value oqmd.volume.units  \\\n",
       "0                 eV/atom                -3.416156   angstrom^3/atom   \n",
       "1                 eV/atom                -3.403616   angstrom^3/atom   \n",
       "2                 eV/atom                -2.783607   angstrom^3/atom   \n",
       "3                 eV/atom                -3.572193   angstrom^3/atom   \n",
       "4                 eV/atom                -3.320249   angstrom^3/atom   \n",
       "\n",
       "  oqmd.volume.value  \n",
       "0          10.78560  \n",
       "1          10.42060  \n",
       "2          14.46660  \n",
       "3           8.77839  \n",
       "4          10.17450  \n",
       "\n",
       "[5 rows x 38 columns]"
      ]
     },
     "execution_count": 25,
     "metadata": {},
     "output_type": "execute_result"
    }
   ],
   "source": [
    "df.head()"
   ]
  },
  {
   "cell_type": "code",
   "execution_count": 26,
   "metadata": {},
   "outputs": [
    {
     "name": "stdout",
     "output_type": "stream",
     "text": [
      "There are 504 entries in the Ag-Be chemical system\n"
     ]
    }
   ],
   "source": [
    "print(\"There are {} entries in the Ag-Be chemical system\".format(len(df)))"
   ]
  }
 ],
 "metadata": {
  "kernelspec": {
   "display_name": "Python [default]",
   "language": "python",
   "name": "python3"
  },
  "language_info": {
   "codemirror_mode": {
    "name": "ipython",
    "version": 3
   },
   "file_extension": ".py",
   "mimetype": "text/x-python",
   "name": "python",
   "nbconvert_exporter": "python",
   "pygments_lexer": "ipython3",
   "version": "3.6.3"
  }
 },
 "nbformat": 4,
 "nbformat_minor": 2
}
