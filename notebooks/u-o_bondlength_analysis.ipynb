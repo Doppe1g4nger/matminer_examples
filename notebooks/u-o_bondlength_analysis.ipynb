{
 "cells": [
  {
   "cell_type": "markdown",
   "metadata": {},
   "source": [
    "# Uranium-oxygen bond length analysis\n",
    "\n",
    "*authors: Evgeny Blokhin, Joseph Montoya*\n",
    "\n",
    "**note**: This notebook requires use of the MPDS data retrieval tool, which requires an account to the MPDS database.  Please inquire about access to this database at the [MPDS website](https://mpds.io/).\n",
    "\n",
    "We use the MPDSDataRetrieval tool to download the crystalline structures from the MPDS database. Let's say we want to study the chemical bond of uranium and oxygen. What is the length of this bond the most frequently reported in the world's scientific literature? The MPDS contains more than 2500 crystalline structures with uranium and oxygen, so let's perform a quick data investigation to answer this question:\n",
    "    "
   ]
  },
  {
   "cell_type": "code",
   "execution_count": null,
   "metadata": {},
   "outputs": [],
   "source": [
    "import pandas as pd\n",
    "import numpy as np\n",
    "from matminer.data_retrieval.retrieve_MPDS import MPDSDataRetrieval\n",
    "from matminer.figrecipes.plot import PlotlyFig"
   ]
  },
  {
   "cell_type": "markdown",
   "metadata": {},
   "source": [
    "Here we use a naive brute-force approach to calculate bond lengths between particular atom types in a crystalline environment. Obviously, we are interested in neighboring atoms only, so we do not consider interatomic distances more than, let's say, 4 Angstroms. We then represent a crystalline structure with the **ase**'s `Atoms` class and calculate distances using its `get_distance` method. Note rounding of distances marked by comment `NB` in the code:\n",
    "    "
   ]
  },
  {
   "cell_type": "code",
   "execution_count": null,
   "metadata": {},
   "outputs": [],
   "source": [
    "def calculate_lengths(ase_obj, elA, elB, limit=4):\n",
    "    \"\"\"\n",
    "    Short helper function to get bond lengths between element A\n",
    "    and element B.\n",
    "    \"\"\"\n",
    "    assert elA != elB\n",
    "    lengths = []\n",
    "    for n, atom in enumerate(ase_obj):\n",
    "        if atom.symbol == elA:\n",
    "            for m, neighbor in enumerate(ase_obj):\n",
    "                if neighbor.symbol == elB:\n",
    "                    dist = round(ase_obj.get_distance(n, m), 2) # NB occurrence <-> rounding\n",
    "                    if dist < limit:\n",
    "                        lengths.append(dist)\n",
    "    return lengths\n",
    "    "
   ]
  },
  {
   "cell_type": "markdown",
   "metadata": {},
   "source": [
    "Note that the crystalline structures are not retrieved from the MPDS by default, so we need to specify additional five fields:\n",
    "* `cell_abc`\n",
    "* `sg_n`\n",
    "* `setting`\n",
    "* `basis_noneq`\n",
    "* `els_noneq`\n",
    "\n",
    "On top of that, we also obtain crystalline `phase_id`s, MPDS entry numbers, and chemical formulae. Note that `get_data` API client method returns a usual Python list, whereas `get_dataframe` API client method returns a Pandas dataframe. We use the former below:\n",
    "    "
   ]
  },
  {
   "cell_type": "code",
   "execution_count": null,
   "metadata": {},
   "outputs": [],
   "source": [
    "client = MPDSDataRetrieval()\n",
    "\n",
    "answer = client.get_data(search={\"elements\": \"U-O\", \n",
    "                                 \"props\": \"atomic structure\",\n",
    "                                 \"classes\": \"binary\"},\n",
    "                         fields={'S':['phase_id', 'entry', 'chemical_formula', 'cell_abc', \n",
    "                                      'sg_n', 'setting', 'basis_noneq', 'els_noneq']})"
   ]
  },
  {
   "cell_type": "markdown",
   "metadata": {},
   "source": [
    "`MPDSDataRetrieval.compile_crystal` API client method helps us to handle the crystalline structure in the **ase**'s `Atoms` flavor. We then call `calculate_lengths` function defined earlier.\n",
    "    "
   ]
  },
  {
   "cell_type": "code",
   "execution_count": null,
   "metadata": {},
   "outputs": [],
   "source": [
    "lengths = []\n",
    "\n",
    "for item in answer:\n",
    "    crystal = MPDSDataRetrieval.compile_crystal(item, 'ase')\n",
    "    if not crystal: continue\n",
    "    lengths.extend( calculate_lengths(crystal, 'U', 'O') )\n",
    "    "
   ]
  },
  {
   "cell_type": "markdown",
   "metadata": {},
   "source": [
    "That runs a little bit slow (about five minutes), since **ase**'s `Atoms` are expectedly not performing very well on dozens of thousands of bond length calculations. We may want to employ a C-extension here, but this is outside the scope of this exercise. A popular [Pymatgen](https://github.com/materialsproject/pymatgen) library can be also used instead of **ase**. (Mind however that **Pymatgen** and **ase** are generally incompatible.) Anyway now we have a flat list `lengths`. Let's convert it into a Pandas Dataframe and find which `U-O` distances occur more often than the others.\n",
    "    "
   ]
  },
  {
   "cell_type": "code",
   "execution_count": null,
   "metadata": {},
   "outputs": [],
   "source": [
    "dfrm = pd.DataFrame(sorted(lengths), columns=['length'])\n",
    "dfrm['occurrence'] = dfrm.groupby('length')['length'].transform('count')\n",
    "dfrm.drop_duplicates('length', inplace=True)\n",
    "    "
   ]
  },
  {
   "cell_type": "markdown",
   "metadata": {},
   "source": [
    "What did we do here? We calculated the numbers of occurrences (counts) of each particular `U-O` length and then updated our dataframe `dfrm` with this info, creating a new column `occurrence`. Now it's up to the reader to visualize the result (this is a matter of taste). Here is a resulting distribution of bond lengths rendered using `Plotly` and `D3` JavaScript libraries: [bar chart](https://gist.githubusercontent.com/blokhin/a9eddca705aa6d54552bc8b6d7bddbb8/raw/03f89d6f2f159ecb4c72ffdc25841e892d92fe5a/MPDS_UO_bondlengths.png).\n",
    "    "
   ]
  },
  {
   "cell_type": "markdown",
   "metadata": {},
   "source": [
    "We can see that the most frequent bond lengths between the neighboring uranium and oxygen atoms are 1.78 and 2.35 Angstroms. This excellently agrees with the well-known study of Burns _et al._ [[1]](http://canmin.geoscienceworld.org/content/35/6/1551), done in 1997. However, Burns considered only 105 structures, and we did more than 2500, confirming very well although his findings on the uranyl ion geometry.\n",
    "    "
   ]
  },
  {
   "cell_type": "code",
   "execution_count": null,
   "metadata": {},
   "outputs": [],
   "source": [
    "pf = PlotlyFig(dfrm, mode='notebook')\n",
    "pf.histogram(cols=['length'], n_bins=40)"
   ]
  }
 ],
 "metadata": {
  "celltoolbar": "Raw Cell Format",
  "kernelspec": {
   "display_name": "Python [default]",
   "language": "python",
   "name": "python3"
  },
  "language_info": {
   "codemirror_mode": {
    "name": "ipython",
    "version": 3
   },
   "file_extension": ".py",
   "mimetype": "text/x-python",
   "name": "python",
   "nbconvert_exporter": "python",
   "pygments_lexer": "ipython3",
   "version": "3.6.3"
  }
 },
 "nbformat": 4,
 "nbformat_minor": 2
}
