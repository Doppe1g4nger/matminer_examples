{
 "cells": [
  {
   "cell_type": "markdown",
   "metadata": {},
   "source": [
    "# Compare and plot experimental band gaps from Citrine and computed band gaps from MP"
   ]
  },
  {
   "cell_type": "markdown",
   "metadata": {},
   "source": [
    "This notebook is an example of the use of the code **'retrieve_Citrine.py'** in retrieving experimental band gaps from Citrine's databases (https://citrination.com/), and then comparing them with computed band gaps from the Materials Project (https://www.materialsproject.org/).\n",
    "\n",
    "**Note**: the specific structure associated with Citrine data is not always available.  Thus, the below example makes a comparison of the experimental band gap from Citrine with the computed band gap of the most stable structure with the same formula from MP. Thus, it is assumed here that the band gaps obtained from Citrine and MP correspond to the same structure for a particular composition."
   ]
  },
  {
   "cell_type": "markdown",
   "metadata": {},
   "source": [
    "###  Import libraries, and set pandas options to display all rows and columns"
   ]
  },
  {
   "cell_type": "code",
   "execution_count": null,
   "metadata": {},
   "outputs": [],
   "source": [
    "import numpy as np\n",
    "import pandas as pd\n",
    "\n",
    "# Set pandas view options\n",
    "pd.set_option('display.width', 1000)\n",
    "pd.set_option('display.max_columns', None)\n",
    "pd.set_option('display.max_rows', None)\n",
    "\n",
    "# filter warnings messages from the notebook\n",
    "import warnings\n",
    "warnings.filterwarnings('ignore')"
   ]
  },
  {
   "cell_type": "markdown",
   "metadata": {},
   "source": [
    "### Import matminer's Citrine data retrieval tool, and retrieve 100 experimental band gaps from Citrine's database in a Pandas dataframe. "
   ]
  },
  {
   "cell_type": "code",
   "execution_count": null,
   "metadata": {
    "scrolled": true
   },
   "outputs": [],
   "source": [
    "from matminer.data_retrieval.retrieve_Citrine import CitrineDataRetrieval\n",
    "\n",
    "api_key = None # Set your Citrine API key here. If set as an environment variable 'CITRINE_KEY', set it to 'None'\n",
    "c = CitrineDataRetrieval() # Create an adapter to the Citrine Database.\n",
    "\n",
    "df = c.get_dataframe(prop='band gap', data_type='EXPERIMENTAL', \n",
    "                     max_results=100, show_columns=['chemicalFormula', 'Band gap'])\n",
    "df = df.rename(columns={'Band gap': 'Experimental band gap'}) # Rename column\n",
    "df.head()"
   ]
  },
  {
   "cell_type": "markdown",
   "metadata": {},
   "source": [
    "### For each composition, get computed band gap from MP for the most stable structure of that composition"
   ]
  },
  {
   "cell_type": "code",
   "execution_count": null,
   "metadata": {
    "scrolled": false
   },
   "outputs": [],
   "source": [
    "from pymatgen import MPRester, Composition\n",
    "mpr = MPRester() # provide your API key here or add it to pymatgen\n",
    "\n",
    "def get_MP_bandgap(formula):\n",
    "    # The MPRester doesn't play nicely with fractional formulas\n",
    "    reduced_formula = Composition(formula).get_integer_formula_and_factor()[0]\n",
    "    struct_lst = mpr.get_data(reduced_formula)\n",
    "    if struct_lst:\n",
    "        struct_lst = sorted(struct_lst, key=lambda e: e['energy_per_atom'])\n",
    "        most_stable_entry = struct_lst[0]\n",
    "        return pd.Series({'Computed band gap': most_stable_entry['band_gap']})\n",
    "    else:\n",
    "        return pd.Series({'Computed band gap': None})\n",
    "    \n",
    "    \n",
    "mp_df = df.apply(lambda x: get_MP_bandgap(x['chemicalFormula']), axis=1)\n",
    "df = pd.concat([df, mp_df], axis=1)"
   ]
  },
  {
   "cell_type": "markdown",
   "metadata": {},
   "source": [
    "### Use FigRecipes to plot experimental vs computed band gaps"
   ]
  },
  {
   "cell_type": "code",
   "execution_count": null,
   "metadata": {},
   "outputs": [],
   "source": [
    "from matminer.figrecipes.plot import PlotlyFig\n",
    "\n",
    "pf = PlotlyFig(df, x_title='Experimental band gap (eV)', \n",
    "               y_title='Computed band gap (ev)',mode='notebook', \n",
    "               fontsize=20, ticksize=15)\n",
    "pf.xy([('Experimental band gap', 'Computed band gap'), ([0, 10], [0, 10])], \n",
    "      modes=['markers', 'lines'], lines=[{}, {'color': 'black', 'dash': 'dash'}],\n",
    "      labels='chemicalFormula', showlegends=False)"
   ]
  },
  {
   "cell_type": "code",
   "execution_count": null,
   "metadata": {},
   "outputs": [],
   "source": [
    "df.head()"
   ]
  },
  {
   "cell_type": "code",
   "execution_count": null,
   "metadata": {},
   "outputs": [],
   "source": []
  }
 ],
 "metadata": {
  "anaconda-cloud": {},
  "celltoolbar": "Raw Cell Format",
  "kernelspec": {
   "display_name": "Python [default]",
   "language": "python",
   "name": "python3"
  },
  "language_info": {
   "codemirror_mode": {
    "name": "ipython",
    "version": 3
   },
   "file_extension": ".py",
   "mimetype": "text/x-python",
   "name": "python",
   "nbconvert_exporter": "python",
   "pygments_lexer": "ipython3",
   "version": "3.6.3"
  }
 },
 "nbformat": 4,
 "nbformat_minor": 1
}
