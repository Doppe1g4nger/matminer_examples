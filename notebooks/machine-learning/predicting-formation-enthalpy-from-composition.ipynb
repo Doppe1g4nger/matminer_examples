{
 "cells": [
  {
   "cell_type": "markdown",
   "metadata": {},
   "source": [
    "# Train a Model to Predict Formation Energy using the OQMD\n",
    "This notebook recreates a 2016 paper by [Ward et al.](https://www.nature.com/articles/npjcompumats201628) on predicting the formation enthalpy of materials based on their composition. We will use the [Materials Data Facility](http://materialsdatafacility.org) to retrieve a training set from the the [OQMD](http://oqmd.org), compute features based on the composition of each entry, and then train a random forest model.\n",
    "\n",
    "This example was last updated on 11/12/18 for Matminer v.0.4.4"
   ]
  },
  {
   "cell_type": "code",
   "execution_count": 1,
   "metadata": {
    "collapsed": true
   },
   "outputs": [],
   "source": [
    "%matplotlib inline\n",
    "from matminer.data_retrieval import retrieve_MDF\n",
    "from matminer.featurizers.base import MultipleFeaturizer\n",
    "from matminer.featurizers import composition as cf\n",
    "from matminer.featurizers.conversions import StrToComposition\n",
    "from matplotlib import pyplot as plt\n",
    "from matplotlib.colors import LogNorm\n",
    "import numpy as np\n",
    "import pandas as pd\n",
    "import pickle as pkl\n",
    "from sklearn import metrics\n",
    "from sklearn.ensemble import RandomForestRegressor\n",
    "from sklearn.model_selection import cross_val_score, cross_val_predict, GridSearchCV, ShuffleSplit, KFold"
   ]
  },
  {
   "cell_type": "markdown",
   "metadata": {},
   "source": [
    "Settings to change"
   ]
  },
  {
   "cell_type": "code",
   "execution_count": 2,
   "metadata": {
    "collapsed": true
   },
   "outputs": [],
   "source": [
    "quick_demo = True # Whether to run an faster version of this demo. \n",
    "# The full OQMD model takes about a hour to test and ~8GB of RAM"
   ]
  },
  {
   "cell_type": "markdown",
   "metadata": {},
   "source": [
    "## Load Training Set\n",
    "Ward _et al._ trained their machine learning models on the formation enthalpies of crystalline compounds form the [OQMD](oqmd.org). Here, we extract the data using the copy of the OQMD available through the MDF"
   ]
  },
  {
   "cell_type": "markdown",
   "metadata": {},
   "source": [
    "### Download the Data\n",
    "We first create a `Forge` instance, which simplifies performing search queries against the MDF."
   ]
  },
  {
   "cell_type": "markdown",
   "metadata": {},
   "source": [
    "The first step is to create a tool for reading from the MDF's search index."
   ]
  },
  {
   "cell_type": "code",
   "execution_count": 3,
   "metadata": {
    "collapsed": true
   },
   "outputs": [],
   "source": [
    "mdf = retrieve_MDF.MDFDataRetrieval(anonymous=True)"
   ]
  },
  {
   "cell_type": "markdown",
   "metadata": {},
   "source": [
    "Then, we assemble a query that gets only the converged static calculations from the OQMD. "
   ]
  },
  {
   "cell_type": "code",
   "execution_count": 4,
   "metadata": {
    "collapsed": true
   },
   "outputs": [],
   "source": [
    "query_string = 'mdf.source_name:oqmd AND (oqmd.configuration:static OR '\\\n",
    "    'oqmd.configuration:standard) AND dft.converged:True'\n",
    "if quick_demo:\n",
    "    query_string += \" AND mdf.scroll_id:<10000\""
   ]
  },
  {
   "cell_type": "code",
   "execution_count": 5,
   "metadata": {},
   "outputs": [],
   "source": [
    "data = mdf.get_data(query_string, unwind_arrays=False)"
   ]
  },
  {
   "cell_type": "markdown",
   "metadata": {},
   "source": [
    "This tool creates a DataFrame object with the metadata for each entry in the OQMD"
   ]
  },
  {
   "cell_type": "code",
   "execution_count": 6,
   "metadata": {},
   "outputs": [
    {
     "data": {
      "text/html": [
       "<div>\n",
       "<style scoped>\n",
       "    .dataframe tbody tr th:only-of-type {\n",
       "        vertical-align: middle;\n",
       "    }\n",
       "\n",
       "    .dataframe tbody tr th {\n",
       "        vertical-align: top;\n",
       "    }\n",
       "\n",
       "    .dataframe thead th {\n",
       "        text-align: right;\n",
       "    }\n",
       "</style>\n",
       "<table border=\"1\" class=\"dataframe\">\n",
       "  <thead>\n",
       "    <tr style=\"text-align: right;\">\n",
       "      <th></th>\n",
       "      <th>crystal_structure.cross_reference.icsd</th>\n",
       "      <th>crystal_structure.number_of_atoms</th>\n",
       "      <th>crystal_structure.space_group_number</th>\n",
       "      <th>crystal_structure.volume</th>\n",
       "      <th>dft.converged</th>\n",
       "      <th>dft.cutoff_energy</th>\n",
       "      <th>dft.exchange_correlation_functional</th>\n",
       "      <th>files</th>\n",
       "      <th>material.composition</th>\n",
       "      <th>material.elements</th>\n",
       "      <th>...</th>\n",
       "      <th>oqmd.delta_e.units</th>\n",
       "      <th>oqmd.delta_e.value</th>\n",
       "      <th>oqmd.magnetic_moment.units</th>\n",
       "      <th>oqmd.magnetic_moment.value</th>\n",
       "      <th>oqmd.stability.units</th>\n",
       "      <th>oqmd.stability.value</th>\n",
       "      <th>oqmd.total_energy.units</th>\n",
       "      <th>oqmd.total_energy.value</th>\n",
       "      <th>oqmd.volume_pa.units</th>\n",
       "      <th>oqmd.volume_pa.value</th>\n",
       "    </tr>\n",
       "  </thead>\n",
       "  <tbody>\n",
       "    <tr>\n",
       "      <th>0</th>\n",
       "      <td>421479.0</td>\n",
       "      <td>13</td>\n",
       "      <td>216</td>\n",
       "      <td>137.948</td>\n",
       "      <td>True</td>\n",
       "      <td>520.0</td>\n",
       "      <td>PBE</td>\n",
       "      <td>[{'data_type': 'ASCII text, with very long lin...</td>\n",
       "      <td>Cl1Li6O5P1</td>\n",
       "      <td>[Cl, Li, O, P]</td>\n",
       "      <td>...</td>\n",
       "      <td>eV/atom</td>\n",
       "      <td>-2.391068</td>\n",
       "      <td>bohr/atom</td>\n",
       "      <td>NaN</td>\n",
       "      <td>eV/atom</td>\n",
       "      <td>0.004016</td>\n",
       "      <td>eV/atom</td>\n",
       "      <td>-5.516475</td>\n",
       "      <td>angstrom^3/atom</td>\n",
       "      <td>10.6114</td>\n",
       "    </tr>\n",
       "    <tr>\n",
       "      <th>1</th>\n",
       "      <td>152055.0</td>\n",
       "      <td>10</td>\n",
       "      <td>194</td>\n",
       "      <td>347.788</td>\n",
       "      <td>True</td>\n",
       "      <td>520.0</td>\n",
       "      <td>PBE</td>\n",
       "      <td>[{'data_type': 'ASCII text, with very long lin...</td>\n",
       "      <td>Ba3Bi1N1</td>\n",
       "      <td>[Ba, Bi, N]</td>\n",
       "      <td>...</td>\n",
       "      <td>eV/atom</td>\n",
       "      <td>-0.827775</td>\n",
       "      <td>bohr/atom</td>\n",
       "      <td>NaN</td>\n",
       "      <td>eV/atom</td>\n",
       "      <td>-0.107386</td>\n",
       "      <td>eV/atom</td>\n",
       "      <td>-4.413626</td>\n",
       "      <td>angstrom^3/atom</td>\n",
       "      <td>34.7788</td>\n",
       "    </tr>\n",
       "  </tbody>\n",
       "</table>\n",
       "<p>2 rows × 31 columns</p>\n",
       "</div>"
      ],
      "text/plain": [
       "   crystal_structure.cross_reference.icsd  crystal_structure.number_of_atoms  \\\n",
       "0                                421479.0                                 13   \n",
       "1                                152055.0                                 10   \n",
       "\n",
       "   crystal_structure.space_group_number  crystal_structure.volume  \\\n",
       "0                                   216                   137.948   \n",
       "1                                   194                   347.788   \n",
       "\n",
       "   dft.converged  dft.cutoff_energy dft.exchange_correlation_functional  \\\n",
       "0           True              520.0                                 PBE   \n",
       "1           True              520.0                                 PBE   \n",
       "\n",
       "                                               files material.composition  \\\n",
       "0  [{'data_type': 'ASCII text, with very long lin...           Cl1Li6O5P1   \n",
       "1  [{'data_type': 'ASCII text, with very long lin...             Ba3Bi1N1   \n",
       "\n",
       "  material.elements          ...          oqmd.delta_e.units  \\\n",
       "0    [Cl, Li, O, P]          ...                     eV/atom   \n",
       "1       [Ba, Bi, N]          ...                     eV/atom   \n",
       "\n",
       "  oqmd.delta_e.value oqmd.magnetic_moment.units oqmd.magnetic_moment.value  \\\n",
       "0          -2.391068                  bohr/atom                        NaN   \n",
       "1          -0.827775                  bohr/atom                        NaN   \n",
       "\n",
       "   oqmd.stability.units oqmd.stability.value oqmd.total_energy.units  \\\n",
       "0               eV/atom             0.004016                 eV/atom   \n",
       "1               eV/atom            -0.107386                 eV/atom   \n",
       "\n",
       "   oqmd.total_energy.value oqmd.volume_pa.units  oqmd.volume_pa.value  \n",
       "0                -5.516475      angstrom^3/atom               10.6114  \n",
       "1                -4.413626      angstrom^3/atom               34.7788  \n",
       "\n",
       "[2 rows x 31 columns]"
      ]
     },
     "execution_count": 6,
     "metadata": {},
     "output_type": "execute_result"
    }
   ],
   "source": [
    "data.head(2)"
   ]
  },
  {
   "cell_type": "markdown",
   "metadata": {},
   "source": [
    "We only need two columns: `delta_e` and `material.composition`"
   ]
  },
  {
   "cell_type": "code",
   "execution_count": 7,
   "metadata": {
    "collapsed": true
   },
   "outputs": [],
   "source": [
    "data = data[['oqmd.delta_e.value', 'material.composition']]"
   ]
  },
  {
   "cell_type": "markdown",
   "metadata": {},
   "source": [
    "Renaming the columns to make the rest of the code more succinct"
   ]
  },
  {
   "cell_type": "code",
   "execution_count": 8,
   "metadata": {
    "collapsed": true
   },
   "outputs": [],
   "source": [
    "data = data.rename(columns={'oqmd.delta_e.value': 'delta_e', 'material.composition':'composition'})"
   ]
  },
  {
   "cell_type": "markdown",
   "metadata": {},
   "source": [
    "### Compile the Training Set\n",
    "Our next step is to get only the lowest-energy entry for each composition."
   ]
  },
  {
   "cell_type": "code",
   "execution_count": 9,
   "metadata": {},
   "outputs": [
    {
     "data": {
      "application/vnd.jupyter.widget-view+json": {
       "model_id": "f0a34b4c2757401d8524a2ed95cdbeed",
       "version_major": 2,
       "version_minor": 0
      },
      "text/plain": [
       "A Jupyter Widget"
      ]
     },
     "metadata": {},
     "output_type": "display_data"
    },
    {
     "name": "stdout",
     "output_type": "stream",
     "text": [
      "\n"
     ]
    }
   ],
   "source": [
    "data = StrToComposition(target_col_id='composition_obj').featurize_dataframe(data, 'composition')"
   ]
  },
  {
   "cell_type": "markdown",
   "metadata": {},
   "source": [
    "Create shortcuts for our input and output columns"
   ]
  },
  {
   "cell_type": "markdown",
   "metadata": {},
   "source": [
    "Remove compounds w/o a `delta_e` measurement."
   ]
  },
  {
   "cell_type": "code",
   "execution_count": 10,
   "metadata": {
    "collapsed": true
   },
   "outputs": [],
   "source": [
    "for k in ['delta_e']:\n",
    "    data[k] = pd.to_numeric(data[k])"
   ]
  },
  {
   "cell_type": "code",
   "execution_count": 11,
   "metadata": {},
   "outputs": [
    {
     "name": "stdout",
     "output_type": "stream",
     "text": [
      "Removed 409/4849 entries\n"
     ]
    }
   ],
   "source": [
    "original_count = len(data)\n",
    "data = data[~ data['delta_e'].isnull()]\n",
    "print('Removed %d/%d entries'%(original_count - len(data), original_count))"
   ]
  },
  {
   "cell_type": "markdown",
   "metadata": {},
   "source": [
    "Get only the groundstate and each composition"
   ]
  },
  {
   "cell_type": "code",
   "execution_count": 12,
   "metadata": {},
   "outputs": [
    {
     "name": "stdout",
     "output_type": "stream",
     "text": [
      "Removed 24/4440 entries\n",
      "Wall time: 1.16 s\n"
     ]
    }
   ],
   "source": [
    "%%time\n",
    "original_count = len(data)\n",
    "data['composition'] = data['composition_obj'].apply(lambda x: x.reduced_formula)\n",
    "data.sort_values('delta_e', ascending=True, inplace=True)\n",
    "data.drop_duplicates('composition', keep='first', inplace=True)\n",
    "print('Removed %d/%d entries'%(original_count - len(data), original_count))"
   ]
  },
  {
   "cell_type": "markdown",
   "metadata": {},
   "source": [
    "Remove outliers"
   ]
  },
  {
   "cell_type": "code",
   "execution_count": 13,
   "metadata": {},
   "outputs": [
    {
     "name": "stdout",
     "output_type": "stream",
     "text": [
      "Removed 1/4416 entries\n"
     ]
    }
   ],
   "source": [
    "original_count = len(data)\n",
    "data = data[np.logical_and(data['delta_e'] >= -20, data['delta_e'] <= 5)]\n",
    "print('Removed %d/%d entries'%(original_count - len(data), original_count))"
   ]
  },
  {
   "cell_type": "markdown",
   "metadata": {},
   "source": [
    "## Build an ML model\n",
    "In this part of the notebook, we build a ML model using [scikit-learn](http://scikit-learn.org/stable/) and evaluate its performance using cross-validation."
   ]
  },
  {
   "cell_type": "markdown",
   "metadata": {},
   "source": [
    "### Part 1: Compute Representation\n",
    "The first step in building a ML model is to convert the raw materials data (here: the composition) into the required input for an ML model: a finite list of quantitative attributes. In this example, we use the \"general-purpose\" attributes of [Ward *et al* 2016](https://www.nature.com/articles/npjcompumats201628)."
   ]
  },
  {
   "cell_type": "code",
   "execution_count": 14,
   "metadata": {
    "collapsed": true
   },
   "outputs": [],
   "source": [
    "feature_calculators = MultipleFeaturizer([cf.Stoichiometry(), cf.ElementProperty.from_preset(\"magpie\"),\n",
    "                                          cf.ValenceOrbital(props=['avg']), cf.IonProperty(fast=True)])"
   ]
  },
  {
   "cell_type": "markdown",
   "metadata": {},
   "source": [
    "Get the feature names"
   ]
  },
  {
   "cell_type": "code",
   "execution_count": 15,
   "metadata": {
    "collapsed": true
   },
   "outputs": [],
   "source": [
    "feature_labels = feature_calculators.feature_labels()"
   ]
  },
  {
   "cell_type": "markdown",
   "metadata": {},
   "source": [
    "Compute the features"
   ]
  },
  {
   "cell_type": "code",
   "execution_count": 16,
   "metadata": {},
   "outputs": [
    {
     "data": {
      "application/vnd.jupyter.widget-view+json": {
       "model_id": "fc35c009db4e4e35a4d062253eca2be0",
       "version_major": 2,
       "version_minor": 0
      },
      "text/plain": [
       "A Jupyter Widget"
      ]
     },
     "metadata": {},
     "output_type": "display_data"
    },
    {
     "name": "stdout",
     "output_type": "stream",
     "text": [
      "\n",
      "Wall time: 45.1 s\n"
     ]
    }
   ],
   "source": [
    "%%time\n",
    "data = feature_calculators.featurize_dataframe(data, col_id='composition_obj');"
   ]
  },
  {
   "cell_type": "code",
   "execution_count": 17,
   "metadata": {},
   "outputs": [
    {
     "name": "stdout",
     "output_type": "stream",
     "text": [
      "Generated 145 features\n",
      "Training set size: 4415x145\n"
     ]
    }
   ],
   "source": [
    "print('Generated %d features'%len(feature_labels))\n",
    "print('Training set size:', 'x'.join([str(x) for x in data[feature_labels].shape]))"
   ]
  },
  {
   "cell_type": "markdown",
   "metadata": {},
   "source": [
    "Remove entries with `NaN` or `infinite` features"
   ]
  },
  {
   "cell_type": "code",
   "execution_count": 18,
   "metadata": {},
   "outputs": [
    {
     "name": "stdout",
     "output_type": "stream",
     "text": [
      "Removed 0/4415 entries\n"
     ]
    }
   ],
   "source": [
    "original_count = len(data)\n",
    "data = data[~ data[feature_labels].isnull().any(axis=1)]\n",
    "print('Removed %d/%d entries'%(original_count - len(data), original_count))"
   ]
  },
  {
   "cell_type": "markdown",
   "metadata": {},
   "source": [
    "### Part 2: Tuning Model Hyper-parameters\n",
    "For brevity, we will only consider one ML algorithm in this example: [random forest](http://scikit-learn.org/stable/modules/generated/sklearn.ensemble.RandomForestRegressor.html#sklearn.ensemble.RandomForestRegressor). The \"random forest\" algorithm works by training many different decision tree models, where each is trained on a different subset of the dataset . Here, we tune one of the major parameters of the algorithm: the number features considered at each split in each decision tree"
   ]
  },
  {
   "cell_type": "code",
   "execution_count": 19,
   "metadata": {
    "collapsed": true
   },
   "outputs": [],
   "source": [
    "model = GridSearchCV(RandomForestRegressor(n_estimators=20 if quick_demo else 150, n_jobs=-1),\n",
    "                     param_grid=dict(max_features=range(8,15)),\n",
    "                     scoring='neg_mean_squared_error',cv=ShuffleSplit(n_splits=1, test_size=0.1))"
   ]
  },
  {
   "cell_type": "code",
   "execution_count": 20,
   "metadata": {},
   "outputs": [
    {
     "data": {
      "text/plain": [
       "GridSearchCV(cv=ShuffleSplit(n_splits=1, random_state=None, test_size=0.1, train_size=None),\n",
       "       error_score='raise-deprecating',\n",
       "       estimator=RandomForestRegressor(bootstrap=True, criterion='mse', max_depth=None,\n",
       "           max_features='auto', max_leaf_nodes=None,\n",
       "           min_impurity_decrease=0.0, min_impurity_split=None,\n",
       "           min_samples_leaf=1, min_samples_split=2,\n",
       "           min_weight_fraction_leaf=0.0, n_estimators=20, n_jobs=-1,\n",
       "           oob_score=False, random_state=None, verbose=0, warm_start=False),\n",
       "       fit_params=None, iid='warn', n_jobs=None,\n",
       "       param_grid={'max_features': range(8, 15)}, pre_dispatch='2*n_jobs',\n",
       "       refit=True, return_train_score='warn',\n",
       "       scoring='neg_mean_squared_error', verbose=0)"
      ]
     },
     "execution_count": 20,
     "metadata": {},
     "output_type": "execute_result"
    }
   ],
   "source": [
    "model.fit(data[feature_labels], data['delta_e'])"
   ]
  },
  {
   "cell_type": "markdown",
   "metadata": {},
   "source": [
    "Plot the tuning results. This shows the CV score as a function of the parameter we tuned \"max features\""
   ]
  },
  {
   "cell_type": "code",
   "execution_count": 21,
   "metadata": {},
   "outputs": [
    {
     "data": {
      "text/plain": [
       "-0.07610525748141486"
      ]
     },
     "execution_count": 21,
     "metadata": {},
     "output_type": "execute_result"
    }
   ],
   "source": [
    "model.best_score_"
   ]
  },
  {
   "cell_type": "code",
   "execution_count": 22,
   "metadata": {},
   "outputs": [
    {
     "data": {
      "text/plain": [
       "Text(0,0.5,'RMSE (eV/atom)')"
      ]
     },
     "execution_count": 22,
     "metadata": {},
     "output_type": "execute_result"
    },
    {
     "data": {
      "image/png": "[encoded data removed]",
      "text/plain": [
       "<Figure size 432x288 with 1 Axes>"
      ]
     },
     "metadata": {},
     "output_type": "display_data"
    }
   ],
   "source": [
    "fig, ax = plt.subplots()\n",
    "\n",
    "# Plot the score as a function of alpha\n",
    "ax.scatter(model.cv_results_['param_max_features'].data,\n",
    "          np.sqrt(-1 * model.cv_results_['mean_test_score']))\n",
    "ax.scatter([model.best_params_['max_features']], np.sqrt([-1*model.best_score_]), marker='o', color='r', s=40)\n",
    "ax.set_xlabel('Max. Features')\n",
    "ax.set_ylabel('RMSE (eV/atom)')"
   ]
  },
  {
   "cell_type": "markdown",
   "metadata": {},
   "source": [
    "Save our best model"
   ]
  },
  {
   "cell_type": "code",
   "execution_count": 23,
   "metadata": {
    "collapsed": true
   },
   "outputs": [],
   "source": [
    "model = model.best_estimator_"
   ]
  },
  {
   "cell_type": "markdown",
   "metadata": {},
   "source": [
    "### Part 3: Cross-validation Test\n",
    "Quantify the performance of this model using 10-fold cross-validation"
   ]
  },
  {
   "cell_type": "code",
   "execution_count": 24,
   "metadata": {
    "collapsed": true
   },
   "outputs": [],
   "source": [
    "cv_prediction = cross_val_predict(model, data[feature_labels], data['delta_e'], cv=KFold(10, shuffle=True))"
   ]
  },
  {
   "cell_type": "markdown",
   "metadata": {},
   "source": [
    "Compute aggregate statistics"
   ]
  },
  {
   "cell_type": "code",
   "execution_count": 25,
   "metadata": {},
   "outputs": [
    {
     "name": "stdout",
     "output_type": "stream",
     "text": [
      "r2_score 0.8138656560002158\n",
      "mean_absolute_error 0.19425795612031052\n",
      "mean_squared_error 0.09126309997079103\n"
     ]
    }
   ],
   "source": [
    "for scorer in ['r2_score', 'mean_absolute_error', 'mean_squared_error']:\n",
    "    score = getattr(metrics,scorer)(data['delta_e'], cv_prediction)\n",
    "    print(scorer, score)"
   ]
  },
  {
   "cell_type": "code",
   "execution_count": 26,
   "metadata": {},
   "outputs": [
    {
     "data": {
      "text/plain": [
       "RandomForestRegressor(bootstrap=True, criterion='mse', max_depth=None,\n",
       "           max_features=9, max_leaf_nodes=None, min_impurity_decrease=0.0,\n",
       "           min_impurity_split=None, min_samples_leaf=1,\n",
       "           min_samples_split=2, min_weight_fraction_leaf=0.0,\n",
       "           n_estimators=20, n_jobs=-1, oob_score=False, random_state=None,\n",
       "           verbose=0, warm_start=False)"
      ]
     },
     "execution_count": 26,
     "metadata": {},
     "output_type": "execute_result"
    }
   ],
   "source": [
    "model"
   ]
  },
  {
   "cell_type": "markdown",
   "metadata": {},
   "source": [
    "Plot the individual predictions"
   ]
  },
  {
   "cell_type": "code",
   "execution_count": 27,
   "metadata": {
    "scrolled": true
   },
   "outputs": [
    {
     "data": {
      "image/png": "[encoded data removed]",
      "text/plain": [
       "<Figure size 216x216 with 1 Axes>"
      ]
     },
     "metadata": {},
     "output_type": "display_data"
    }
   ],
   "source": [
    "fig, ax = plt.subplots()\n",
    "\n",
    "ax.hist2d(pd.to_numeric(data['delta_e']), cv_prediction, norm=LogNorm(), bins=64, cmap='Blues', alpha=0.9)\n",
    "\n",
    "ax.set_xlim(ax.get_ylim())\n",
    "ax.set_ylim(ax.get_xlim())\n",
    "\n",
    "mae = metrics.mean_absolute_error(data['delta_e'], cv_prediction)\n",
    "r2 = metrics.r2_score(data['delta_e'], cv_prediction)\n",
    "ax.text(0.5, 0.1, 'MAE: {:.2f} eV/atom\\n$R^2$:  {:.2f}'.format(mae, r2),\n",
    "        transform=ax.transAxes,\n",
    "       bbox={'facecolor': 'w', 'edgecolor': 'k'})\n",
    "\n",
    "ax.plot(ax.get_xlim(), ax.get_xlim(), 'k--')\n",
    "\n",
    "ax.set_xlabel('DFT $\\Delta H_f$ (eV/atom)')\n",
    "ax.set_ylabel('ML $\\Delta H_f$ (eV/atom)')\n",
    "\n",
    "fig.set_size_inches(3, 3)\n",
    "fig.tight_layout()\n",
    "fig.savefig('oqmd_cv.png', dpi=320)"
   ]
  },
  {
   "cell_type": "code",
   "execution_count": null,
   "metadata": {
    "collapsed": true
   },
   "outputs": [],
   "source": []
  }
 ],
 "metadata": {
  "kernelspec": {
   "display_name": "Python 3",
   "language": "python",
   "name": "python3"
  },
  "language_info": {
   "codemirror_mode": {
    "name": "ipython",
    "version": 3
   },
   "file_extension": ".py",
   "mimetype": "text/x-python",
   "name": "python",
   "nbconvert_exporter": "python",
   "pygments_lexer": "ipython3",
   "version": "3.6.6"
  }
 },
 "nbformat": 4,
 "nbformat_minor": 2
}
