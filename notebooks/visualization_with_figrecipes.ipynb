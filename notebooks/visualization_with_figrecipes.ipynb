{
 "cells": [
  {
   "cell_type": "markdown",
   "metadata": {},
   "source": [
    "## Visualization using FigRecipes"
   ]
  },
  {
   "cell_type": "markdown",
   "metadata": {},
   "source": [
    "*authors: Alireza Faghaninia, Alex Dunn, Joseph Montoya*"
   ]
  },
  {
   "cell_type": "markdown",
   "metadata": {},
   "source": [
    "This notebook illustrates some of the basic plotting functionality of matminer.figrecipes which is integrated with a number of other data management functionalities of the package.  Note that these examples and a few additional ones are included in script form in the [matminer_examples](https://github.com/hackingmaterials/matminer_examples/tree/master/figrecipes) repository."
   ]
  },
  {
   "cell_type": "code",
   "execution_count": null,
   "metadata": {},
   "outputs": [],
   "source": [
    "from matminer.datasets.dataframe_loader import load_elastic_tensor, load_dielectric_constant\n",
    "from pymatgen import Composition\n",
    "from matminer.figrecipes.plot import PlotlyFig"
   ]
  },
  {
   "cell_type": "markdown",
   "metadata": {},
   "source": [
    "### XY and scatter plots"
   ]
  },
  {
   "cell_type": "code",
   "execution_count": null,
   "metadata": {},
   "outputs": [],
   "source": [
    "# A Simple XY plot\n",
    "pf = PlotlyFig(title=\"Basic Example\", mode='notebook')\n",
    "\n",
    "# Inputs are tuples contain a list of x variables and y variables\n",
    "pf.xy(([1, 2, 3], [4, 5, 6]))"
   ]
  },
  {
   "cell_type": "code",
   "execution_count": null,
   "metadata": {},
   "outputs": [],
   "source": [
    "# Load dataframe\n",
    "df = load_elastic_tensor()\n",
    "\n",
    "# Generate plotter with attached dataframe and x, y labels\n",
    "pf = PlotlyFig(df, x_title='Shear modulus (GPa)', \n",
    "               y_title='Bulk Modulus (GPa)', mode='notebook')\n",
    "\n",
    "# plot based on dataframe column names, add material_id as label,\n",
    "# color points according to poisson ratio, and label hovertext with material_id\n",
    "pf.xy(('G_VRH', 'K_VRH'), labels='material_id', \n",
    "      colors='poisson_ratio', colorscale='Picnic')"
   ]
  },
  {
   "cell_type": "markdown",
   "metadata": {},
   "source": [
    "### Violin plot"
   ]
  },
  {
   "cell_type": "code",
   "execution_count": null,
   "metadata": {},
   "outputs": [],
   "source": [
    "df = load_elastic_tensor()\n",
    "pf = PlotlyFig(df, title=\"Distribution of Elastic Constant Averages\",\n",
    "               colorscale='Reds', mode='notebook')\n",
    "\n",
    "# Generate violin plot for each of the specified columns of the dataframe\n",
    "pf.violin(cols=['K_Reuss', 'K_Voigt', 'G_Reuss', 'G_Voigt'],\n",
    "          use_colorscale=True)"
   ]
  },
  {
   "cell_type": "markdown",
   "metadata": {},
   "source": [
    "### Histogram"
   ]
  },
  {
   "cell_type": "code",
   "execution_count": null,
   "metadata": {},
   "outputs": [],
   "source": [
    "df = load_dielectric_constant()\n",
    "pf = PlotlyFig(title=\"Distribution of Band Gaps in the Dielectric Constant Dataset\",\n",
    "               x_title=\"Band Gap (eV)\", mode='notebook',\n",
    "               hoverinfo='y') # include hovertext info from y variables\n",
    "\n",
    "# Data must be supplied numerically, i. e. not as column label\n",
    "pf.histogram(df['band_gap'])"
   ]
  },
  {
   "cell_type": "markdown",
   "metadata": {},
   "source": [
    "### Bar plots"
   ]
  },
  {
   "cell_type": "code",
   "execution_count": null,
   "metadata": {},
   "outputs": [],
   "source": [
    "pf = PlotlyFig(mode='notebook')\n",
    "\n",
    "# 3 variables with three values\n",
    "pf.bar(x=['var a', 'var b', 'var c'], y=[1, 2, 3])"
   ]
  },
  {
   "cell_type": "code",
   "execution_count": null,
   "metadata": {},
   "outputs": [],
   "source": [
    "# Format the general layout of our figure with 5 samples\n",
    "df = load_dielectric_constant()\n",
    "df = df.iloc[:5]\n",
    "pf = PlotlyFig(df, mode='notebook',\n",
    "               title='Comparison of 5 materials band gaps and n')\n",
    "# Plot!\n",
    "colors = ['red', 'orange', 'yellow', 'blue', 'green']\n",
    "pf.bar(cols=['n', 'band_gap'], labels='formula', colors=colors)"
   ]
  },
  {
   "cell_type": "markdown",
   "metadata": {},
   "source": [
    "### Parallel coordinates plot"
   ]
  },
  {
   "cell_type": "code",
   "execution_count": null,
   "metadata": {},
   "outputs": [],
   "source": [
    "df = load_elastic_tensor()\n",
    "pf = PlotlyFig(df, title=\"Elastic tensor dataset\",\n",
    "               colorscale='Jet', mode='notebook')\n",
    "pf.parallel_coordinates(cols=['nsites', 'K_VRH', 'G_VRH'], colors='volume')"
   ]
  },
  {
   "cell_type": "markdown",
   "metadata": {},
   "source": [
    "### Scatterplot matrix"
   ]
  },
  {
   "cell_type": "code",
   "execution_count": null,
   "metadata": {
    "scrolled": false
   },
   "outputs": [],
   "source": [
    "df = load_elastic_tensor()\n",
    "pf = PlotlyFig(df, mode='notebook')\n",
    "\n",
    "# basic matrix:\n",
    "pf.scatter_matrix(cols=['K_VRH', 'G_VRH', 'volume', 'nsites'])"
   ]
  },
  {
   "cell_type": "code",
   "execution_count": null,
   "metadata": {},
   "outputs": [],
   "source": [
    "# with colorscale and labels:\n",
    "pf.scatter_matrix(cols=['K_VRH', 'G_VRH', 'nsites', 'volume'],\n",
    "                  colors='nsites',\n",
    "                  labels='material_id',\n",
    "                  colorscale='Picnic')"
   ]
  },
  {
   "cell_type": "markdown",
   "metadata": {},
   "source": [
    "### Heatmaps"
   ]
  },
  {
   "cell_type": "code",
   "execution_count": null,
   "metadata": {},
   "outputs": [],
   "source": [
    "pf = PlotlyFig(mode='notebook')\n",
    "z = [[1, 20, 30, 50, 1], [20, 1, 60, 80, 30], [30, 60, 1, -10, 20]]\n",
    "x = ['Monday', 'Tuesday', 'Wednesday', 'Thursday', 'Friday']\n",
    "y = ['Morning', 'Afternoon', 'Evening']\n",
    "pf.heatmap_basic(z, x_labels=x, y_labels=y)"
   ]
  }
 ],
 "metadata": {
  "kernelspec": {
   "display_name": "Python [default]",
   "language": "python",
   "name": "python3"
  },
  "language_info": {
   "codemirror_mode": {
    "name": "ipython",
    "version": 3
   },
   "file_extension": ".py",
   "mimetype": "text/x-python",
   "name": "python",
   "nbconvert_exporter": "python",
   "pygments_lexer": "ipython3",
   "version": "3.6.3"
  }
 },
 "nbformat": 4,
 "nbformat_minor": 2
}
